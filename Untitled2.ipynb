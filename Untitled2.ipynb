{
  "nbformat": 4,
  "nbformat_minor": 0,
  "metadata": {
    "colab": {
      "provenance": [],
      "authorship_tag": "ABX9TyM0TYI2A8+459iCSPtK9H2/",
      "include_colab_link": true
    },
    "kernelspec": {
      "name": "python3",
      "display_name": "Python 3"
    },
    "language_info": {
      "name": "python"
    }
  },
  "cells": [
    {
      "cell_type": "markdown",
      "metadata": {
        "id": "view-in-github",
        "colab_type": "text"
      },
      "source": [
        "<a href=\"https://colab.research.google.com/github/Anjuzoldyckk/dna-sequence-parser/blob/main/Untitled2.ipynb\" target=\"_parent\"><img src=\"https://colab.research.google.com/assets/colab-badge.svg\" alt=\"Open In Colab\"/></a>"
      ]
    },
    {
      "cell_type": "code",
      "source": [
        "import os\n",
        "import sys\n",
        "import re\n",
        "import matplotlib.pyplot as plt\n",
        "import pandas as pd\n",
        "def read_fasta(file,x=2): #x is tells if user wants individual or concat seqs\n",
        "  current_seq = \"\"\n",
        "  seqs = []\n",
        "  headers=[]\n",
        "  with open(file,'r') as r:\n",
        "    for line in r:\n",
        "      line=line.strip()\n",
        "      if line.startswith(\">\"):\n",
        "        headers.append(line[1:])\n",
        "        if current_seq:\n",
        "          seqs.append(current_seq)\n",
        "        current_seq = \"\"\n",
        "      else:\n",
        "        cleaned = re.sub(r'[^ATGCatgc]', '', line)\n",
        "        current_seq += cleaned\n",
        "    if current_seq: #for adding last seq in current seq\n",
        "      seqs.append(current_seq)\n",
        "    final_seq = \"\".join(seqs)\n",
        "    if x == 1:\n",
        "        return seqs\n",
        "    else:\n",
        "        return final_seq\n",
        "\n",
        "def gc_content(seq):\n",
        "  seq = seq.upper().strip()\n",
        "  total_len = len(seq)\n",
        "  if total_len == 0:\n",
        "    return 0, \"0.00%\"\n",
        "  g = seq.count('G')\n",
        "  c = seq.count('C')\n",
        "  gc= g+c\n",
        "  gc_fraction = gc / total_len\n",
        "  gc_percent = gc_fraction * 100\n",
        "  return round(gc_fraction, 4), f\"{gc_percent:.2f}%\"\n",
        "\n",
        "def at_content(seq):\n",
        "  seq = seq.upper().strip()\n",
        "  total_len = len(seq)\n",
        "  if total_len == 0:\n",
        "    return 0, \"0.00%\"\n",
        "  a = seq.count('A')\n",
        "  t = seq.count('T')\n",
        "  at = a + t\n",
        "  at_fraction = at / total_len\n",
        "  at_percent = (at_fraction * 100)\n",
        "  return round(at_fraction, 4), f\"{at_percent:.2f}%\"\n",
        "\n",
        "def analyze_seq(sequence: str)-> dict:\n",
        "  #it gets called multiple times if the fasta read result is a list,\n",
        "  #it return none for now but later if u want to use for graphs and all u have to denote that it returns a dict\n",
        "  sequence = sequence.upper().strip()\n",
        "  length = len(sequence)\n",
        "  if length == 0:\n",
        "        print(\"empty sequence bro!!\")\n",
        "        return\n",
        "  a = sequence.count('A')\n",
        "  t = sequence.count('T')\n",
        "  g = sequence.count('G')\n",
        "  c = sequence.count('C')\n",
        "  #cal each base percentage\n",
        "  a_perc = (a / length) * 100\n",
        "  t_perc = (t / length) * 100\n",
        "  g_perc = (g / length) * 100\n",
        "  c_perc = (c / length) * 100\n",
        "  #calling defined funs\n",
        "  at_frac, at_perc = at_content(sequence)\n",
        "  gc_frac, gc_perc = gc_content(sequence)\n",
        "  print(f\"Sequence length: {length}\")\n",
        "  print(f\"A count: {a},({a_perc:.2f}%)\")\n",
        "  print(f\"T count: {t},({t_perc:.2f}%)\")\n",
        "  print(f\"G count: {g},({g_perc:.2f}%)\")\n",
        "  print(f\"C count: {c},({c_perc:.2f}%)\")\n",
        "  print(f\"AT content: {at_frac},({at_perc})\")\n",
        "  print(f\"GC content: {gc_frac},({gc_perc})\")\n",
        "  result = {\"length\" : length,\n",
        "            \"a_count\" : a,\n",
        "            \"t_count\" : t,\n",
        "            \"g_count\" : g,\n",
        "            \"c_count\" : c,\n",
        "            \"a_perc\" : a_perc,\n",
        "            \"t_perc\" : t_perc,\n",
        "            \"g_perc\" : g_perc,\n",
        "            \"c_perc\" : c_perc,\n",
        "            \"at_frac\" : at_frac,\n",
        "            \"at_perc\" : at_perc,\n",
        "            \"gc_frac\" : gc_frac,\n",
        "            \"gc_perc\" : gc_perc}\n",
        "  return result\n",
        "\n",
        "\n",
        "\n",
        "if __name__ == \"__main__\":\n",
        "  file_fasta = input(\"Enter the name of the FASTA file (e.g., example.fasta): \")\n",
        "  if not os.path.isfile(file_fasta):\n",
        "    print(f\" XXXXX File not found: {file_fasta}\")\n",
        "    sys.exit()\n",
        "  x = int(input(\"hello :)\\nif u want individual seq then enter 1 or if u want all seqs in the file combined then enter 2 : \"))\n",
        "  reading_fasta_result = read_fasta(file_fasta, x)\n",
        "  if isinstance(reading_fasta_result, list) and len(reading_fasta_result) == 0:\n",
        "      print(\"empty sequence bro!!\")\n",
        "      sys.exit()\n",
        "  if isinstance(reading_fasta_result, str) and reading_fasta_result.strip() == \"\":\n",
        "      print(\"empty sequence bro!!\")\n",
        "      sys.exit()\n",
        "  result = []\n",
        "  if isinstance(reading_fasta_result, list):\n",
        "    for i, seq in enumerate(reading_fasta_result):\n",
        "      print(f\"---Sequence {i + 1}---\")\n",
        "      result_dict = analyze_seq(seq)   #capture dict into variable\n",
        "      result.append(result_dict)\n",
        "  else:\n",
        "    print(\"---Concatenated Sequence---\")\n",
        "    result_dict = analyze_seq(reading_fasta_result)\n",
        "    result.append(result_dict)\n",
        "  print(result)\n",
        "  graph = input(\"bro u wanna see cool grapht with len and gc content? (y/n)\")\n",
        "  if graph.lower().startswith(\"y\") or graph == \"y\":\n",
        "    graph_type = input(\"which type graph u want brotha? (1: Scatter, 2: Bar, 3: Pie): \")\n",
        "    if graph_type == \"1\":\n",
        "      lengths = [item['length'] for item in result]\n",
        "      gc_contents = [item['gc_frac'] for item in result]\n",
        "      plt.scatter(lengths, gc_contents)\n",
        "      plt.xlabel(\"Sequence Length\")\n",
        "      plt.ylabel(\"GC Content (fraction)\")\n",
        "      plt.title(\"GC Content vs Sequence Length\")\n",
        "      plt.show()\n",
        "    elif graph_type == \"2\":\n",
        "      pass # bar code here\n",
        "    elif graph_type == \"3\":\n",
        "      pass # pie code here\n",
        "    else:\n",
        "        print(\"huh?\")\n",
        "  else:\n",
        "    print(\"okay, cya <3 \")\n",
        "  #panda shit\n",
        "  df = pd.DataFrame(result)\n",
        "  df.to_csv(\"seq_stats.csv\", index=False)\n",
        "  print(\"check for seq_stats.csv\")\n",
        "\n",
        "'''Sequence filtering:Let the user keep only sequences above/below a certain length or GC%.\n",
        "histogram\n",
        "motif search,\n",
        "dna to protein '''"
      ],
      "metadata": {
        "id": "37uTkzwT9Za-",
        "colab": {
          "base_uri": "https://localhost:8080/",
          "height": 316
        },
        "outputId": "067b68a8-eb94-4afb-9a20-24a78cb008c2"
      },
      "execution_count": 13,
      "outputs": [
        {
          "output_type": "stream",
          "name": "stdout",
          "text": [
            "Enter the name of the FASTA file (e.g., example.fasta): EX.fasta\n",
            "hello :)\n",
            "if u want individual seq then enter 1 or if u want all seqs in the file combined then enter 2 : 2\n",
            "---Concatenated Sequence---\n",
            "Sequence length: 301\n",
            "A count: 45,(14.95%)\n",
            "T count: 105,(34.88%)\n",
            "G count: 106,(35.22%)\n",
            "C count: 45,(14.95%)\n",
            "AT content: 0.4983,(49.83%)\n",
            "GC content: 0.5017,(50.17%)\n",
            "[{'length': 301, 'a_count': 45, 't_count': 105, 'g_count': 106, 'c_count': 45, 'a_perc': 14.950166112956811, 't_perc': 34.883720930232556, 'g_perc': 35.21594684385382, 'c_perc': 14.950166112956811, 'at_frac': 0.4983, 'at_perc': '49.83%', 'gc_frac': 0.5017, 'gc_perc': '50.17%'}]\n",
            "bro u wanna see cool grapht with len and gc content? (y/n)eoifhoid\n",
            "okay, cya <3 \n",
            "check for seq_stats.csv\n"
          ]
        },
        {
          "output_type": "execute_result",
          "data": {
            "text/plain": [
              "'Sequence filtering:Let the user keep only sequences above/below a certain length or GC%.\\nhistogram\\nmotif search,\\ndna to protein '"
            ],
            "application/vnd.google.colaboratory.intrinsic+json": {
              "type": "string"
            }
          },
          "metadata": {},
          "execution_count": 13
        }
      ]
    },
    {
      "cell_type": "code",
      "source": [],
      "metadata": {
        "id": "0cGcAVomb-AR"
      },
      "execution_count": null,
      "outputs": []
    },
    {
      "cell_type": "code",
      "source": [
        "\n"
      ],
      "metadata": {
        "id": "E3HELxGMZXHg"
      },
      "execution_count": null,
      "outputs": []
    }
  ]
}